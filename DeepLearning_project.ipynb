{
 "cells": [
  {
   "cell_type": "code",
   "execution_count": 1,
   "metadata": {},
   "outputs": [],
   "source": [
    "# Atari space invaders \n",
    "\n",
    "import torch\n",
    "import torch.nn as nn\n",
    "import torch.nn.functional as F\n",
    "import torch.optim as optim\n",
    "import numpy as np\n",
    "\n",
    "import gym\n",
    "#from utils import plotlearning"
   ]
  },
  {
   "cell_type": "code",
   "execution_count": 2,
   "metadata": {},
   "outputs": [],
   "source": [
    "device = torch.device('cuda:0' if torch.cuda.is_available else 'cpu')"
   ]
  },
  {
   "cell_type": "code",
   "execution_count": 3,
   "metadata": {},
   "outputs": [],
   "source": [
    "\n",
    "#CNN network architecture\n",
    "class DQNetwork(nn.Module):\n",
    "    def __init__(self):\n",
    "        super(DQNetwork,self).__init__()\n",
    "        self.conv1 = nn.Conv2d(1,32,8,stride=4,padding=1)\n",
    "        self.conv2 = nn.Conv2d(32,64,4,stride=2)\n",
    "        self.conv2 = nn.Conv2d(64,128,3)\n",
    "        self.fc1   = nn.Linear(128*19*8,512)\n",
    "        self.fc2   = nn.Linear(512,6)\n",
    "    \n",
    "    def forward(self,observation):\n",
    "        observation = torch.Tensor(observation)\n",
    "        observation = observation.view(-1,1,185,95)\n",
    "        observation = F.Relu(self.conv1(observation))\n",
    "        observation = F.Relu(self.conv2(observation))\n",
    "        observation = F.Relu(self.conv3(observation))\n",
    "        observation = observation.flatten()\n",
    "        observation = F.Relu(self.fc1(observation))\n",
    "        actions     = self.fc2(observation)\n",
    "        return actions\n",
    "        \n",
    "        \n",
    "    "
   ]
  },
  {
   "cell_type": "code",
   "execution_count": 4,
   "metadata": {},
   "outputs": [
    {
     "data": {
      "text/plain": [
       "DQNetwork(\n",
       "  (conv1): Conv2d(1, 32, kernel_size=(8, 8), stride=(4, 4), padding=(1, 1))\n",
       "  (conv2): Conv2d(64, 128, kernel_size=(3, 3), stride=(1, 1))\n",
       "  (fc1): Linear(in_features=19456, out_features=512, bias=True)\n",
       "  (fc2): Linear(in_features=512, out_features=6, bias=True)\n",
       ")"
      ]
     },
     "execution_count": 4,
     "metadata": {},
     "output_type": "execute_result"
    }
   ],
   "source": [
    "DQ=DQNetwork()\n",
    "DQ.to(device)"
   ]
  },
  {
   "cell_type": "code",
   "execution_count": 5,
   "metadata": {},
   "outputs": [],
   "source": [
    "#Optimiser and loss function\n",
    "optimiser = optim.RMSprop(DQ.parameters(),lr=0.003)\n",
    "loss      = nn.MSELoss()"
   ]
  },
  {
   "cell_type": "code",
   "execution_count": 6,
   "metadata": {},
   "outputs": [],
   "source": [
    "#agent\n",
    "\n",
    "class Agent(object):\n",
    "    def __init__(self,gamma,epsilon,Max_Memory_Size,limit=0.05,replace=10000,actionspace=[0,1,2,3,4,5]):\n",
    "        self.gamma = gamma\n",
    "        self.epsilon = epsilon\n",
    "        self.limit = limit\n",
    "        self.actionspace = actionspace\n",
    "        self.mem = Max_Memory_Size\n",
    "        self.steps = 0\n",
    "        self.learn_step_counter = 0\n",
    "        self.memory = []\n",
    "        self.mem_counter = 0\n",
    "        self.replcae_target = replace\n",
    "        self.Q_curr = DQ\n",
    "        self.Q_succ = DQ\n",
    "    def store_mmry_transition(self,state,action,reward,succ_state):\n",
    "        if self.mem_counter<self.mem:\n",
    "            self.memory.append([state,action,reward,succ_state])\n",
    "        else:\n",
    "            self.memory[self.mem_counter % self.mem] = [state,action,reward,succ_state]\n",
    "            self.mem_counter+=1\n",
    "    def chooseAction(self,observation):\n",
    "        rand_action = np.random.random()\n",
    "        actions = self.Q_curr.forward(observation)\n",
    "        if rand < 1-self.epsilon:\n",
    "            action = torch.argmax(actions[1]).item()\n",
    "        else:\n",
    "            action = np.random.choice(self.actionspace)\n",
    "        self.steps +=1\n",
    "        \n",
    "        return action\n",
    "    def Agent_learn(self,batch_size):\n",
    "        self.Q_curr.optimser.zero_grad()\n",
    "        if self.replace_target is not None and self.learn_step_counter % self.replace_target == 0 :\n",
    "            self.Q_succ.load_state_dict(self.Q_curr.state_dict())\n",
    "            \n",
    "        if self.mem_counter + batch_size < self.mem:\n",
    "            memstart = int(np.random.choice(range(self.mem_counter)))\n",
    "        else:\n",
    "            memstart = int(np.random.choice(range(self.mem_counter-batch_size-1)))\n",
    "            \n",
    "        minibatch = self.memory[memstart:memstart+batch_size]\n",
    "        memory = np.array(minibatch)\n",
    "        \n",
    "        Q_pred = self.Q_curr.forward(list(memory[:,0][:])).to(device)\n",
    "        Q_succ = self.Q_succ.forward(list(memory[:,3][:])).to(device)\n",
    "        \n",
    "        bestAction = torch.argmax(Q_succ,dim=1).to(device)\n",
    "        rewards = torch.tensor(list(memory[:,2])).to(device)\n",
    "        Qtarget = Q_pred\n",
    "        Qtarget[:,bestAction] = rewards + self.gamma*torch.max(Q_curr[1])\n",
    "        \n",
    "        if self.steps > 500:\n",
    "            if self.epsilon - 1e-4 > self.limit:\n",
    "                self.epsilon -= 1e-4\n",
    "            else:\n",
    "                self.epsilon = self.limit\n",
    "        loss = self.Q_curr.loss(Qtarget,Q_pred).to(device)\n",
    "        loss.backward()\n",
    "        self.Q_curr.optimiser.step()\n",
    "        self.learn_step_counter += 1\n",
    "        \n",
    "        \n",
    "        \n",
    "        "
   ]
  },
  {
   "cell_type": "code",
   "execution_count": null,
   "metadata": {},
   "outputs": [],
   "source": [
    "env = gym.make('SpaceInvaders-v0')\n",
    "player= Agent(gamma=0.95,epsilon=1.0,Max_Memory_Size=5000,replace=None)\n",
    "while player.mem_counter < player.mem:\n",
    "    observation = env.reset()\n",
    "    finished = False\n",
    "    while not finished:\n",
    "        action = env.action_space.sample()\n",
    "        observation_new,reward,done,info = env.step(action)\n",
    "        if done and info['ale.lives'] ==0:\n",
    "            reward =-100\n",
    "        player.store_mmry_transition(np.mean(observation[15:200,30:125],axis=2),action,reward,np.mean(observation_new[15:200,30:125],axis=2))\n",
    "        observation = observation_new\n",
    "        \n",
    "print('populated memory with random actions')\n",
    "        \n",
    "scores=[]\n",
    "epsilon_history =[]\n",
    "num_games = 50\n",
    "batch_size = 32\n",
    "        \n",
    "for i in range(num_games):\n",
    "    print('starting game' ,i+1, 'epsilon:%.4f' %model.epsilon)\n",
    "    epsilon_history.append(model.epsilon)\n",
    "    observation = env.reset()\n",
    "    frames = [np.sum(observation[15:200,30:125],axis=2)]\n",
    "    score = 0\n",
    "    lastAction = 0\n",
    "\n",
    "    while not done:\n",
    "        if(len(frames)==4):\n",
    "            action = player.chooseAction(frames)\n",
    "            frames=[]\n",
    "        else:\n",
    "            action = lastAction\n",
    "        observation_new,reward,done,info = env.step(action)\n",
    "        score += reward\n",
    "        frames.append(np.sum(observation[15:200,30:125],axis=2))\n",
    "        if done and info['ale.lives']==0:\n",
    "            reward =-100\n",
    "        player.store_mmry_transition(np.mean(observation[15:200,30:125],axis=2),action,reward,np.mean(observation_new[15:200,30:125],axis=2))\n",
    "        observation = observation_new\n",
    "        player.learn(batch_size)\n",
    "        lastAction = action\n",
    "        env.render()\n",
    "    scores.appned(score)\n",
    "    print('score:',score)\n",
    "\n"
   ]
  },
  {
   "cell_type": "code",
   "execution_count": null,
   "metadata": {},
   "outputs": [],
   "source": []
  }
 ],
 "metadata": {
  "kernelspec": {
   "display_name": "Python 3",
   "language": "python",
   "name": "python3"
  },
  "language_info": {
   "codemirror_mode": {
    "name": "ipython",
    "version": 3
   },
   "file_extension": ".py",
   "mimetype": "text/x-python",
   "name": "python",
   "nbconvert_exporter": "python",
   "pygments_lexer": "ipython3",
   "version": "3.6.8"
  }
 },
 "nbformat": 4,
 "nbformat_minor": 2
}
